{
 "cells": [
  {
   "cell_type": "markdown",
   "id": "c9c36beb-6592-4b74-8176-1ad01d430b00",
   "metadata": {},
   "source": [
    "# Example of using python to calculate dissolved oxygen along a river reach downstream of a pollutant discharge\n",
    "Press shift-enter to \"run\" each cell."
   ]
  },
  {
   "cell_type": "markdown",
   "id": "0adb9323-76fa-43bc-9ceb-f389138930ca",
   "metadata": {},
   "source": [
    "# The Streeter-Phelps Equation / DO Sag Curve\n",
    "$D = \\frac{k_1 BOD_u}{k_2 - k_1} (\\exp^{-k_1 t} - \\exp^{-k_2 t}) + D_i \\exp^{-k_2 t}$\n",
    "\n",
    "Where:\n",
    "$D$ is the saturation deficit (mg/l)  \n",
    "$k_1$ is the deoxygenation rate (day-1)  \n",
    "$k_2$ is the reaeration rate (day-1)    \n",
    "$BOD_u$ is the initial oxygen demand of organic matter in the water, or ultimate BOD (mg/l)   \n",
    "and $D_i$ is the initial oxygen deficit (mg/l)  \n",
    "\n"
   ]
  },
  {
   "cell_type": "code",
   "execution_count": 1,
   "id": "888b6563-2f00-4938-bcdf-9bf1f0dafb02",
   "metadata": {},
   "outputs": [
    {
     "name": "stdout",
     "output_type": "stream",
     "text": [
      "The saturation concentration (O2) is 9.05 mg/l\n",
      "The inicial oxygen concentration (Oi) is 6.04 mg/l\n",
      "The initial saturation deficit (Di) is 3.02 mg/l\n",
      "BODu is 8.33 mg/l\n",
      "BOD5 is 6.81 mg/l\n"
     ]
    }
   ],
   "source": [
    "import math\n",
    "import matplotlib.pyplot as plt\n",
    "import numpy as np\n",
    "import pandas as pd\n",
    "\n",
    "Qs = 0.4 #m3/s discharge in the stream\n",
    "v = 0.5 #m/s velocity of the stream\n",
    "T = 20 #ºC water temperature of the stream\n",
    "\n",
    "Qe = 0.2 #m3/s\n",
    "BODl = 25 #mg/l\n",
    "\n",
    "k1 = 0.34 #day-1 deoxygenation\n",
    "k2 = 0.65 #day-1 reaeration\n",
    "\n",
    "Ss = 0.0035*T**2 - 0.337*T + 14.395 #Saturation concentration (function of temperature in ºC)\n",
    "print('The saturation concentration (O2) is %0.2f mg/l' % Ss)\n",
    "Oi = Qs / (Qs + Qe) * Ss\n",
    "Di = Ss-Oi\n",
    "print('The inicial oxygen concentration (Oi) is %0.2f mg/l' % Oi)\n",
    "print('The initial saturation deficit (Di) is %0.2f mg/l' % Di)\n",
    "BODu = Qe / (Qs + Qe) * BODl\n",
    "print('BODu is %0.2f mg/l' % BODu)\n",
    "BOD5i = BODu * (1-math.exp(-5*k1))\n",
    "print('BOD5 is %0.2f mg/l' % BOD5i)\n"
   ]
  },
  {
   "cell_type": "markdown",
   "id": "66bb1fbd-46a1-4741-b748-f8db355954ef",
   "metadata": {
    "tags": []
   },
   "source": [
    "# Define your Streeter-Phelps equation function below\n",
    "Edit the function below to return D from the parameters k1, k2, Di, BODli and t.  \n",
    "The exponential is: math.exp()"
   ]
  },
  {
   "cell_type": "code",
   "execution_count": 2,
   "id": "01ea86e3-2b26-41af-86d4-43ceec8487d8",
   "metadata": {
    "tags": []
   },
   "outputs": [],
   "source": [
    "def streeterPhelps(k1, k2, Di, BODu, t):\n",
    "    D =  D = k1*BODu/(k2-k1)*(math.exp(-k1*t)-math.exp(-k2*t))+Di*math.exp(-k2*t)\n",
    "    return D"
   ]
  },
  {
   "cell_type": "markdown",
   "id": "f6ce8d1f-4bbc-4b77-a922-73ee8a6d576e",
   "metadata": {
    "tags": []
   },
   "source": [
    "# Now test the results\n",
    ":)"
   ]
  },
  {
   "cell_type": "code",
   "execution_count": 3,
   "id": "deff4f7c-2cb4-48ad-bc84-a3a5d906bc62",
   "metadata": {},
   "outputs": [
    {
     "name": "stdout",
     "output_type": "stream",
     "text": [
      "             oxygen deficit  dissolved oxygen\n",
      "time [days]                                  \n",
      "0.00000            3.018333          6.036667\n",
      "0.10101            3.098774          5.956226\n",
      "0.20202            3.164912          5.890088\n",
      "0.30303            3.217966          5.837034\n",
      "0.40404            3.259067          5.795933\n",
      "...                     ...               ...\n",
      "9.59596            0.337974          8.717026\n",
      "9.69697            0.326920          8.728080\n",
      "9.79798            0.316217          8.738783\n",
      "9.89899            0.305854          8.749146\n",
      "10.00000           0.295821          8.759179\n",
      "\n",
      "[100 rows x 2 columns]\n"
     ]
    },
    {
     "data": {
      "image/png": "[encoded data removed]",
      "text/plain": [
       "<Figure size 640x480 with 1 Axes>"
      ]
     },
     "metadata": {},
     "output_type": "display_data"
    }
   ],
   "source": [
    "# Creates a dataframe to store the values...\n",
    "time = np.linspace(0, 10, 100)\n",
    "results = pd.DataFrame({'oxygen deficit': time*np.nan}, index=time)\n",
    "results.index.name = 'time [days]'\n",
    "\n",
    "# Applies your equation to all \"times\"\n",
    "for t0 in results.index:\n",
    "    results.loc[t0, 'oxygen deficit'] = streeterPhelps(k1, k2, Di, BODu, t0)\n",
    "\n",
    "# Calculates the dissolved oxygen from the deficit\n",
    "results['dissolved oxygen'] = Ss - results['oxygen deficit']\n",
    "\n",
    "# Outputs time-based results (table and figure)\n",
    "print(results)\n",
    "ax = results.plot()\n"
   ]
  },
  {
   "cell_type": "code",
   "execution_count": 4,
   "id": "c8df8236-9fbe-4758-a47d-1ce8afea076d",
   "metadata": {},
   "outputs": [
    {
     "name": "stdout",
     "output_type": "stream",
     "text": [
      "               oxygen deficit  dissolved oxygen\n",
      "Distance [km]                                  \n",
      "0.000000             3.018333          6.036667\n",
      "4.363636             3.098774          5.956226\n",
      "8.727273             3.164912          5.890088\n",
      "13.090909            3.217966          5.837034\n",
      "17.454545            3.259067          5.795933\n",
      "...                       ...               ...\n",
      "414.545455           0.337974          8.717026\n",
      "418.909091           0.326920          8.728080\n",
      "423.272727           0.316217          8.738783\n",
      "427.636364           0.305854          8.749146\n",
      "432.000000           0.295821          8.759179\n",
      "\n",
      "[100 rows x 2 columns]\n"
     ]
    },
    {
     "data": {
      "image/png": "[encoded data removed]",
      "text/plain": [
       "<Figure size 640x480 with 1 Axes>"
      ]
     },
     "metadata": {},
     "output_type": "display_data"
    }
   ],
   "source": [
    "# Calculates distances too (based on time and water velocity)\n",
    "results_distance = results.copy()\n",
    "results_distance.index = results.index*v*86.400\n",
    "results_distance.index.name = 'Distance [km]'\n",
    "\n",
    "# Outputs distance-based results (table and figure)\n",
    "results_distance.plot()\n",
    "print(results_distance)"
   ]
  },
  {
   "cell_type": "markdown",
   "id": "4d9dd38d-2a08-42b2-8137-bc718a3dd65e",
   "metadata": {},
   "source": [
    "# Get the minimum dissolved oxygen concentration"
   ]
  },
  {
   "cell_type": "code",
   "execution_count": 5,
   "id": "3c21ff46-dcb1-4335-810e-1250f1b96718",
   "metadata": {},
   "outputs": [
    {
     "name": "stdout",
     "output_type": "stream",
     "text": [
      "The minimum DO is 5.73 mg/l\n",
      "The minimum DO happens at 0.81 days or 34.91 km\n"
     ]
    }
   ],
   "source": [
    "minimum = results['dissolved oxygen'].min()\n",
    "print('The minimum DO is %0.2f mg/l' % minimum)\n",
    "where = results['dissolved oxygen'].argmin()\n",
    "print('The minimum DO happens at %0.2f days or %0.2f km' % (results.index[where], results_distance.index[where]))\n"
   ]
  },
  {
   "cell_type": "markdown",
   "id": "85325fd9-712c-4505-a7f9-a6fbf591ed63",
   "metadata": {},
   "source": [
    "# An optimization problem:\n",
    "What is the maximum discharge so that the dissolved oxygen never drops below 50% of the saturation rate?  \n",
    "Use scipy's \"minimize scalar\"    \n",
    "https://docs.scipy.org/doc/scipy/reference/generated/scipy.optimize.minimize_scalar.html#scipy.optimize.minimize_scalar\n",
    "\n",
    "Check the last example in the webpage...   \n",
    "Use the method='bounded' and bounds=(20, 800)"
   ]
  },
  {
   "cell_type": "code",
   "execution_count": null,
   "id": "6d5f3977-e603-4e3e-8938-e75f21e2764b",
   "metadata": {},
   "outputs": [],
   "source": [
    "# First, define the function to be minimized\n",
    "def minimumO(BOD):\n",
    "    '''\n",
    "    This is a function that will be run many times\n",
    "    '''\n",
    "    \n",
    "    time = np.linspace(0, 10, 100)\n",
    "    tmp = pd.DataFrame({'oxygen deficit': time*np.nan}, index=time)\n",
    "\n",
    "    BODl = Qe / (Qs + Qe) * BOD\n",
    "    \n",
    "    # Applies your equation to all \"times\"\n",
    "    for t0 in tmp.index:\n",
    "        tmp.loc[t0, 'oxygen deficit'] = streeterPhelps(k1, k2, Di, BODl, t0)\n",
    "    \n",
    "    # The minumum oxygen concentration is equivalent to the maximum defict:\n",
    "    O = (Ss - tmp.loc[:, 'oxygen deficit'])\n",
    "    minO = O.min()\n",
    "\n",
    "    return minO\n",
    "\n",
    "\n",
    "# Second, define the function we want to minimize (the distance to 50% staturation)\n",
    "def toMinimize(BOD):\n",
    "    \n",
    "    distanceSquared = (minimumO(BOD)-(0.5*9.05))**2\n",
    "    \n",
    "    return distanceSquared\n",
    "\n",
    "\n",
    "# Run the mimize_scalar funtion\n",
    "from scipy.optimize import minimize_scalar\n",
    "res = #YOUR CODE HERE#\n",
    "\n",
    "print('The critical BOD concentration appears to be %0.2f mg/l' % res.x)"
   ]
  },
  {
   "cell_type": "markdown",
   "id": "8406a47a-75d1-497f-a1a2-d9030b65e703",
   "metadata": {},
   "source": [
    "# Test your results"
   ]
  },
  {
   "cell_type": "code",
   "execution_count": null,
   "id": "74b69afc-ac7a-41b8-a575-019d82bd1126",
   "metadata": {},
   "outputs": [],
   "source": [
    "#Limit BOD\n",
    "limitBOD = res.x*1\n",
    "BODl = Qe / (Qs + Qe) * limitBOD\n",
    "\n",
    "time = np.linspace(0, 10, 100)\n",
    "results = pd.DataFrame({'oxygen deficit': time*np.nan}, index=time)\n",
    "results.index.name = 'time [days]'\n",
    "\n",
    "# Applies your equation to all \"times\"\n",
    "for t0 in results.index:\n",
    "    results.loc[t0, 'oxygen deficit'] = streeterPhelps(k1, k2, Di, BODl, t0)\n",
    "\n",
    "# Calculates the dissolved oxygen from the deficit\n",
    "results['dissolved oxygen'] = Ss - results['oxygen deficit']\n",
    "\n",
    "# Outputs time-based results (table and figure)\n",
    "print(results)\n",
    "ax = results.plot()"
   ]
  }
 ],
 "metadata": {
  "kernelspec": {
   "display_name": "Python 3 (ipykernel)",
   "language": "python",
   "name": "python3"
  },
  "language_info": {
   "codemirror_mode": {
    "name": "ipython",
    "version": 3
   },
   "file_extension": ".py",
   "mimetype": "text/x-python",
   "name": "python",
   "nbconvert_exporter": "python",
   "pygments_lexer": "ipython3",
   "version": "3.12.0"
  }
 },
 "nbformat": 4,
 "nbformat_minor": 5
}
